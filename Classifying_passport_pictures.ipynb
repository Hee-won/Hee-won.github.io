{
  "nbformat": 4,
  "nbformat_minor": 0,
  "metadata": {
    "colab": {
      "name": "Classifying passport pictures.ipynb",
      "provenance": [],
      "authorship_tag": "ABX9TyPsMfvy6MvV1PhWH901Il+1",
      "include_colab_link": true
    },
    "kernelspec": {
      "name": "python3",
      "display_name": "Python 3"
    }
  },
  "cells": [
    {
      "cell_type": "markdown",
      "metadata": {
        "id": "view-in-github",
        "colab_type": "text"
      },
      "source": [
        "<a href=\"https://colab.research.google.com/github/Hee-won/Hee-won.github.io/blob/master/Classifying_passport_pictures.ipynb\" target=\"_parent\"><img src=\"https://colab.research.google.com/assets/colab-badge.svg\" alt=\"Open In Colab\"/></a>"
      ]
    },
    {
      "cell_type": "markdown",
      "metadata": {
        "id": "l9OXQqdZriAK"
      },
      "source": [
        "**여권사진 분류하기 프로젝트 전체 코드 Classifying passport pictures**\r\n",
        "\r\n",
        "1.   이중분류\r\n",
        "2.   다중분류"
      ]
    },
    {
      "cell_type": "markdown",
      "metadata": {
        "id": "8DGCTL-uswn0"
      },
      "source": [
        "이중분류 Two-way classification\r\n"
      ]
    },
    {
      "cell_type": "code",
      "metadata": {
        "id": "rtWE8w5SreF-"
      },
      "source": [
        "# 1. 구글 드라이브 연동\r\n",
        "\r\n",
        "from google.colab import drive\r\n",
        "drive mount('/content/drive')"
      ],
      "execution_count": null,
      "outputs": []
    },
    {
      "cell_type": "code",
      "metadata": {
        "id": "CPxpC0GOr9Hn"
      },
      "source": [
        "# 2. zip 파일 압축 풀기\r\n",
        "\r\n",
        "import zipfile\r\n",
        "with zipfile.Zipfile('content/drive/My Drive/data_set.zip', 'r')as zip_ref:\r\n",
        "  zip_ref.extractall('/content/drive/My Drive/data_set')"
      ],
      "execution_count": null,
      "outputs": []
    },
    {
      "cell_type": "code",
      "metadata": {
        "id": "TcFq51OmuEnP"
      },
      "source": [
        "# 3. Data set 불러오기\r\n",
        "from tensorflow import keras\r\n",
        "\r\n",
        "# 훈련셋 + data exaggeration\r\n",
        "train_datagen = keras.preprocessing.image.ImaeDataGenerator(rescale = 1/255, horizontal_flip = True)\r\n",
        "train_generator = train_datagen.flow_from_directory('/content/drive/My Drive/data_set/train', target_size = (413, 531), batch_size = 10, class_mode = 'binary', shuffle = True)\r\n",
        "\r\n",
        "# 평가셋\r\n",
        "Test_datagen = keras.preprocessing.image.ImageDataGenerator(rescale = 1/255)\r\n",
        "Test_generator = test_datagen.flow_from_directory('/content/drive/My Drive/data_set/test', target_size = (413, 531), batch_size = 10, class_mode = 'binary')\r\n",
        "print(train_generator.image_shape)\r\n",
        "print(train_generator.class_indices)"
      ],
      "execution_count": null,
      "outputs": []
    },
    {
      "cell_type": "code",
      "metadata": {
        "id": "So5X-sfCvxEE"
      },
      "source": [
        "# 4. data 살펴보기\r\n",
        "print(test_generator[0][0].shape)"
      ],
      "execution_count": null,
      "outputs": []
    },
    {
      "cell_type": "code",
      "metadata": {
        "id": "7guDt1YIv5kU"
      },
      "source": [
        "# 5. 모델 구성\r\n",
        "\r\n",
        "from tensorflow import keras\r\n",
        "from keras.layers import Dense, Conv2D, MaxPooling2D, Flatten, Dropout\r\n",
        "model=keras.Sequential()\r\n",
        "model.add(Conv2D(filters = 32, kernel_size = (3,3), activation = 'relu',input_shape = test_generator.image_shape))\r\n",
        "model.add(Conv2D(32,(3,3), activation = 'relu'))\r\n",
        "model.add(MaxPooling2D(pool_size = (2,2)))\r\n",
        "model.add(Dropout(0.2))\r\n",
        "model.add(Conv2D(64, (3,3),activation = 'relu'))\r\n",
        "model.add(MaxPooling2D(pool_size = (2,2)))\r\n",
        "model.add(Conv2D(128, (3,3), activation = 'relu'))\r\n",
        "model.add(MaxPooling2D(pool_size = (2,2)))\r\n",
        "model.add(Flatten())\r\n",
        "model.add(Dense(64, activation = 'relu'))\r\n",
        "model.add(Dense(32, activation = 'relu'))\r\n",
        "model.add(Dropout(0.2))\r\n",
        "\r\n",
        "model.add(Dense(1, activation = 'sigmoid'))\r\n",
        "model.summary()"
      ],
      "execution_count": null,
      "outputs": []
    },
    {
      "cell_type": "code",
      "metadata": {
        "id": "jgE3-Pgvw5R0"
      },
      "source": [
        "# 6. compile\r\n",
        "model.compile(optimizer = 'adam', loss = 'binary_crossentropy', metrics = ['accuracy'])"
      ],
      "execution_count": null,
      "outputs": []
    },
    {
      "cell_type": "code",
      "metadata": {
        "id": "59qG1Cq4xBxu"
      },
      "source": [
        "# 7. train\r\n",
        "from keras.callbacks import EarlyStopping\r\n",
        "early_stop = EarlyStopping(patience = 15)\r\n",
        "epochs = 100\r\n",
        "history = model.fit(train_generator,steps_per_epoch = 100, epochs = epochs, validation_data = test_generator, validation_steps = 20, callbacks = [early_stop])"
      ],
      "execution_count": null,
      "outputs": []
    },
    {
      "cell_type": "code",
      "metadata": {
        "id": "11hKMk-bxIXA"
      },
      "source": [
        "# 8. Evaluate\r\n",
        "result = model.evaluate(test_generator, steps = 1)\r\n",
        "print(result)"
      ],
      "execution_count": null,
      "outputs": []
    },
    {
      "cell_type": "code",
      "metadata": {
        "id": "fYXJvdfVxOm_"
      },
      "source": [
        "# 9. 시각화\r\n",
        "import matplotlib.pyplot as plt\r\n",
        "plt.plot(history.history['accuracy'])\r\n",
        "plt.plot(history.history['val_accuracy'])\r\n",
        "plt.title('Accuracy')\r\n",
        "plt.ylabel('accuracy')\r\n",
        "plt.xlabel('epoch')\r\n",
        "plt.legend(['train', 'val'], loc = 'upper left')\r\n",
        "plt.show()\r\n",
        "plt.plot(history.history['loss'])\r\n",
        "plt.plot(history.history['val_loss'])\r\n",
        "plt.title('Loss')\r\n",
        "plt.ylabel('loss')\r\n",
        "plt.xlabel('epoch')\r\n",
        "plt.legend(['train', 'val'], loc = 'upper left')\r\n",
        "plt.show()"
      ],
      "execution_count": null,
      "outputs": []
    },
    {
      "cell_type": "code",
      "metadata": {
        "id": "dOS3ubwWxXpQ"
      },
      "source": [
        "# 10. 모델 저장\r\n",
        "model_path1 = 'passport_wrongornot.h5'\r\n",
        "model.save(model_path1)"
      ],
      "execution_count": null,
      "outputs": []
    },
    {
      "cell_type": "markdown",
      "metadata": {
        "id": "gVyWueCuxgt-"
      },
      "source": [
        "다중분류 Multicategory classification"
      ]
    },
    {
      "cell_type": "code",
      "metadata": {
        "id": "ZaBchGbHxdq_"
      },
      "source": [
        "# 11. zip 파일 압축 풀기\r\n",
        "import zipfile\r\n",
        "with zipfile.ZipFile('/content/drive/My Drive/data_set2.zip', 'r') as zip_ref:\r\n",
        "zip_ref.extractall('/content/drive/My Drive/data_set2')"
      ],
      "execution_count": null,
      "outputs": []
    },
    {
      "cell_type": "code",
      "metadata": {
        "id": "zRtOLrAzxyJI"
      },
      "source": [
        "# 12. 데이터셋 불러오기\r\n",
        "from tensorflow import keras\r\n",
        "# 훈련셋 + data exaggeration\r\n",
        "train_datagen2 = keras.preprocessing.image.ImageDataGenerator(rescale = 1/255, horizontal_flip = True)\r\n",
        "train_generator2 = train_datagen2.flow_from_directory('/content/drive/My Drive/data_set2/train', target_size = (413, 531), batch_size = 20, class_mode = 'categorical', shuffle = True)\r\n",
        "# 평가셋\r\n",
        "Test_datagen2 = keras.preprocessing.image.ImageDataGenerator(rescale = 1/255)\r\n",
        "Test_generator2 = test_datagen2.flow_from_directory('/content/drive/My Drive/data_set2/test', target_size = (413, 531), batch_size = 20, class_mode = 'categorical')\r\n",
        "print(train_generator2.image_shape)\r\n",
        "print(train_generator2.class_indices)"
      ],
      "execution_count": null,
      "outputs": []
    },
    {
      "cell_type": "code",
      "metadata": {
        "id": "Zzjj4Ltex_6g"
      },
      "source": [
        "# 13. data 살펴보기\r\n",
        "print(test_generator2[0][0].shape)"
      ],
      "execution_count": null,
      "outputs": []
    },
    {
      "cell_type": "code",
      "metadata": {
        "id": "9TaXD1SIyMUq"
      },
      "source": [
        "# 14. 모델 구성\r\n",
        "model2 = keras.Sequential()\r\n",
        "model2.add(Conv2D(filters = 32, kernel_size = (3,3), activation = 'relu', input_shape = test_generator.image_shape, padding = 'same'))\r\n",
        "model2.add(Conv2D(32,(3,3),activation = 'relu', padding = 'same'))\r\n",
        "model2.add(MaxPooling2D(pool_size=(2,2)))\r\n",
        "model2.add(Dropout(0.2))\r\n",
        "model2.add(Conv2D(64, (3,3), activation = 'relu', padding = 'same'))\r\n",
        "model2.add(MaxPooling2D(pool_size=(2,2)))\r\n",
        "model2.add(Conv2D(128, (3,3),activation = 'relu', padding = 'same'))\r\n",
        "model2.add(MaxPooling2D(pool_size=(2,2)))\r\n",
        "model2.add(Flatten())\r\n",
        "model2.add(Dense(64, activation = 'relu'))\r\n",
        "model2.add(Dense(32, activation = 'relu'))\r\n",
        "model2.add(Dropout(0.5))\r\n",
        "model2.add(Dense(5, activation = 'softmax'))\r\n",
        "model2.summary()"
      ],
      "execution_count": null,
      "outputs": []
    },
    {
      "cell_type": "code",
      "metadata": {
        "id": "cwQwklYayZ26"
      },
      "source": [
        "# 15. compile\r\n",
        "model2.compile(optimizer = 'adam', loss = 'categorical_crossentropy', metrics = ['accuracy'])"
      ],
      "execution_count": null,
      "outputs": []
    },
    {
      "cell_type": "code",
      "metadata": {
        "id": "qDKDBd8dyh2u"
      },
      "source": [
        "# 16. train\r\n",
        "from keras.callbacks import EarlyStopping\r\n",
        "early_stop = EarlyStopping(patience = 15)\r\n",
        "epochs = 100\r\n",
        "history2 = model2.fit(train_generator2, steps_per_epoch = 50, epochs = epochs, validation_data = test_generator2, validation_steps = 10, callbacks = [early_stop])"
      ],
      "execution_count": null,
      "outputs": []
    },
    {
      "cell_type": "code",
      "metadata": {
        "id": "euJH03L-y0ri"
      },
      "source": [
        "# 17. evaluate\r\n",
        "result2 = model2.evaluate(test_generator2, steps = 1)\r\n",
        "print(result2)"
      ],
      "execution_count": null,
      "outputs": []
    },
    {
      "cell_type": "code",
      "metadata": {
        "id": "OrOYTsRwy64f"
      },
      "source": [
        "# 18. 시각화\r\n",
        "\r\n",
        "import matplotlib.pyplot as plt\r\n",
        "plt.plot(history2.history['accuracy'])\r\n",
        "plt.plot(history2.history['val_accuracy'])\r\n",
        "plt.title('Accuracy')\r\n",
        "plt.ylabel('accuracy')\r\n",
        "plt.xlabel('epoch')\r\n",
        "plt.legend(['train', 'val'], loc = 'upper left')\r\n",
        "plt.show()\r\n",
        "plt.plot(history2.history['loss'])\r\n",
        "plt.plot(history2.history['val_loss'])\r\n",
        "plt.title('Loss')\r\n",
        "plt.ylabel('loss')\r\n",
        "plt.xlabel('epoch')\r\n",
        "plt.legend(['train', 'val'], loc = 'upper left')\r\n",
        "plt.show()"
      ],
      "execution_count": null,
      "outputs": []
    },
    {
      "cell_type": "code",
      "metadata": {
        "id": "KIgbjb0kzEhj"
      },
      "source": [
        "# 19. 모델 저장\r\n",
        "model_path2 = 'passport_wrongtype.h5'\r\n",
        "model2.save(model_path2)"
      ],
      "execution_count": null,
      "outputs": []
    },
    {
      "cell_type": "code",
      "metadata": {
        "id": "9rE7Vv3FzK2n"
      },
      "source": [
        "# 20. 모델 불러오기\r\n",
        "from keras.models import load_model\r\n",
        "model_1 = load_model(model_path1)\r\n",
        "model_2 = load_model(model_path2)\r\n",
        "print(model_1.summary())\r\n",
        "print(model_2.summary())"
      ],
      "execution_count": null,
      "outputs": []
    },
    {
      "cell_type": "code",
      "metadata": {
        "id": "wqKEuW_GzVH-"
      },
      "source": [
        "# 21. 새로운 이미지 테스트\r\n",
        "from google.colab import files\r\n",
        "upload = files.upload()"
      ],
      "execution_count": null,
      "outputs": []
    },
    {
      "cell_type": "code",
      "metadata": {
        "id": "k7O-IZTLzYpL"
      },
      "source": [
        "# 22. 이미지 확인\r\n",
        "import cv2\r\n",
        "test_image = cv2.imread('image.png')\r\n",
        "test_image = cv2.cvtColor(test_image, cv2.COLOR_BGR2RGB)\r\n",
        "plt.imshow(test_image)"
      ],
      "execution_count": null,
      "outputs": []
    },
    {
      "cell_type": "code",
      "metadata": {
        "id": "I48vPPcQzabT"
      },
      "source": [
        "# 23. resize -> (413, 531, 3)\r\n",
        "image_resized = cv2.resize(test_image, dsize=(531,413), interpolation=cv2.INTER_AREA)\r\n",
        "print(image_resized.shape)"
      ],
      "execution_count": null,
      "outputs": []
    },
    {
      "cell_type": "code",
      "metadata": {
        "id": "h6haYMlHzuhZ"
      },
      "source": [
        "# 24. test\r\n",
        "import numpy as np\r\n",
        "result = model_1.predict(image_resized.reshape(1, 413, 531, 3))\r\n",
        "if result == 0:\r\n",
        "  result2 = model_2.predict(image_resized.reshape(1, 413, 531, 3))\r\n",
        "  score = result2[0]\r\n",
        "  print(\"abnormal:\")\r\n",
        "  print(print(np.where(result2 == np.amax(result2))[1]))\r\n",
        "else:\r\n",
        "  print(\"normal: \")\r\n",
        "  print(print(np.where(result == np.amax(result))[1]))"
      ],
      "execution_count": null,
      "outputs": []
    }
  ]
}